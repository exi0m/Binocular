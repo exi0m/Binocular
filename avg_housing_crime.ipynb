{
 "cells": [
  {
   "cell_type": "code",
   "execution_count": 17,
   "metadata": {},
   "outputs": [],
   "source": [
    "%run Binocular.ipynb"
   ]
  },
  {
   "cell_type": "markdown",
   "metadata": {},
   "source": [
    "\n",
    "### The purpose of the comparison was to show a key factor of how the housing market acts is the levels of crime rate, by neighborhood.\n"
   ]
  },
  {
   "cell_type": "code",
   "execution_count": 21,
   "metadata": {},
   "outputs": [
    {
     "data": {
      "text/plain": [
       "'\\nI was initially utilizing the SDK provided by data.sfgov.org,\\nwhich is a data platform called Socrata.\\nI initially had trouble trying to utilize the entire datasets since it was over 2.2M rows.\\nNot sure if this was due to the throttling being done to the API causing bottleneck but my jupyter would eventuallyc crash.\\nSo I reduced it from its furthest archive of 2005 and reduced it to 2010.\\nBut instead of using the SDK, I downloaded the datasets locally to host incase of internet issues for pulling\\nsuch large amounts of data.\\nBut I kept the code for archive purposes.\\n'"
      ]
     },
     "execution_count": 21,
     "metadata": {},
     "output_type": "execute_result"
    }
   ],
   "source": [
    "'''\n",
    "I was initially utilizing the SDK provided by data.sfgov.org,\n",
    "which is a data platform called Socrata.\n",
    "I initially had trouble trying to utilize the entire datasets since it was over 2.2M rows.\n",
    "Not sure if this was due to the throttling being done to the API causing bottleneck but my jupyter would eventuallyc crash.\n",
    "So I reduced it from its furthest archive of 2005 and reduced it to 2010.\n",
    "But instead of using the SDK, I downloaded the datasets locally to host incase of internet issues for pulling\n",
    "such large amounts of data.\n",
    "But I kept the code for archive purposes.\n",
    "'''\n",
    "#from sodapy import Socrata\n",
    "#import geopandas as gpd\n",
    "#username = os.getenv(\"SFGOV_USERNAME\")\n",
    "#password = os.getenv(\"SFGOV_PASSWORD\")\n",
    "#app_key = os.getenv(\"SFGOV_APP_KEY\")"
   ]
  },
  {
   "cell_type": "code",
   "execution_count": null,
   "metadata": {},
   "outputs": [],
   "source": [
    "#client = Socrata(\"data.sfgov.org\",\n",
    "#                 app_key, \n",
    "#                 username=username,\n",
    "#                 password=password)\n",
    "#results_2018_to_present = client.get(\"wg3w-h783\", limit=400500)\n",
    "#results_2003_to_2018 = client.get(\"tmnf-yvry\", \n",
    "#                                  select='*',\n",
    "#                                  where='date >= \"2015-01-01\"',\n",
    "#                                  limit=1000000)"
   ]
  },
  {
   "cell_type": "code",
   "execution_count": 2,
   "metadata": {},
   "outputs": [],
   "source": [
    "police_2003_csv_path = Path('Data/Police_Reports_2003_to_2018.csv')\n",
    "police_2018_csv_path = Path('Data/Police_Reports_2018_to_Present.csv')"
   ]
  },
  {
   "cell_type": "code",
   "execution_count": 19,
   "metadata": {},
   "outputs": [],
   "source": [
    "police_2003_df = pd.read_csv(police_2003_csv_path)\n",
    "police_2018_df = pd.read_csv(police_2018_csv_path)\n",
    "police_2018_df = police_2018_df.drop(\"Unnamed: 5\",1)\n",
    "police_2003_df.dropna(subset=['latitude'], inplace=True)\n",
    "police_2018_df.dropna(subset=['latitude'], inplace=True)\n",
    "police_2003_df_updated = police_2003_df[police_2003_df.datetime >= '2010']\n"
   ]
  },
  {
   "cell_type": "code",
   "execution_count": 4,
   "metadata": {},
   "outputs": [
    {
     "name": "stderr",
     "output_type": "stream",
     "text": [
      "/Users/Steven/opt/anaconda3/envs/pyvizenv/lib/python3.8/site-packages/pandas/core/generic.py:5303: SettingWithCopyWarning: \n",
      "A value is trying to be set on a copy of a slice from a DataFrame.\n",
      "Try using .loc[row_indexer,col_indexer] = value instead\n",
      "\n",
      "See the caveats in the documentation: https://pandas.pydata.org/pandas-docs/stable/user_guide/indexing.html#returning-a-view-versus-a-copy\n",
      "  self[name] = value\n"
     ]
    }
   ],
   "source": [
    "police_2003_df_updated.latitude = police_2003_df_updated.latitude.astype(float)\n",
    "police_2003_df_updated.longitude = police_2003_df_updated.longitude.astype(float)\n",
    "police_2018_df.latitude = police_2018_df.latitude.astype(float)\n",
    "police_2018_df.longitude = police_2018_df.longitude.astype(float)"
   ]
  },
  {
   "cell_type": "code",
   "execution_count": 5,
   "metadata": {},
   "outputs": [
    {
     "data": {
      "text/html": [
       "<div>\n",
       "<style scoped>\n",
       "    .dataframe tbody tr th:only-of-type {\n",
       "        vertical-align: middle;\n",
       "    }\n",
       "\n",
       "    .dataframe tbody tr th {\n",
       "        vertical-align: top;\n",
       "    }\n",
       "\n",
       "    .dataframe thead th {\n",
       "        text-align: right;\n",
       "    }\n",
       "</style>\n",
       "<table border=\"1\" class=\"dataframe\">\n",
       "  <thead>\n",
       "    <tr style=\"text-align: right;\">\n",
       "      <th></th>\n",
       "      <th>incident_id</th>\n",
       "      <th>incident_category</th>\n",
       "      <th>datetime</th>\n",
       "      <th>latitude</th>\n",
       "      <th>longitude</th>\n",
       "    </tr>\n",
       "  </thead>\n",
       "  <tbody>\n",
       "    <tr>\n",
       "      <th>1588</th>\n",
       "      <td>100001514</td>\n",
       "      <td>OTHER OFFENSES</td>\n",
       "      <td>2010/1/1 00:00:00</td>\n",
       "      <td>37.781271</td>\n",
       "      <td>-122.411340</td>\n",
       "    </tr>\n",
       "    <tr>\n",
       "      <th>1589</th>\n",
       "      <td>100921542</td>\n",
       "      <td>NON-CRIMINAL</td>\n",
       "      <td>2010/1/1 00:00:00</td>\n",
       "      <td>37.775421</td>\n",
       "      <td>-122.403405</td>\n",
       "    </tr>\n",
       "    <tr>\n",
       "      <th>1590</th>\n",
       "      <td>150085035</td>\n",
       "      <td>OTHER OFFENSES</td>\n",
       "      <td>2010/1/1 00:00:00</td>\n",
       "      <td>37.792106</td>\n",
       "      <td>-122.408214</td>\n",
       "    </tr>\n",
       "    <tr>\n",
       "      <th>1591</th>\n",
       "      <td>100003275</td>\n",
       "      <td>OTHER OFFENSES</td>\n",
       "      <td>2010/1/1 00:00:00</td>\n",
       "      <td>37.802183</td>\n",
       "      <td>-122.412912</td>\n",
       "    </tr>\n",
       "    <tr>\n",
       "      <th>1592</th>\n",
       "      <td>100003043</td>\n",
       "      <td>NON-CRIMINAL</td>\n",
       "      <td>2010/1/1 00:00:00</td>\n",
       "      <td>37.779814</td>\n",
       "      <td>-122.403860</td>\n",
       "    </tr>\n",
       "  </tbody>\n",
       "</table>\n",
       "</div>"
      ],
      "text/plain": [
       "      incident_id incident_category           datetime   latitude   longitude\n",
       "1588    100001514    OTHER OFFENSES  2010/1/1 00:00:00  37.781271 -122.411340\n",
       "1589    100921542      NON-CRIMINAL  2010/1/1 00:00:00  37.775421 -122.403405\n",
       "1590    150085035    OTHER OFFENSES  2010/1/1 00:00:00  37.792106 -122.408214\n",
       "1591    100003275    OTHER OFFENSES  2010/1/1 00:00:00  37.802183 -122.412912\n",
       "1592    100003043      NON-CRIMINAL  2010/1/1 00:00:00  37.779814 -122.403860"
      ]
     },
     "execution_count": 5,
     "metadata": {},
     "output_type": "execute_result"
    }
   ],
   "source": [
    "police_2003_current_con = pd.concat([police_2003_df_updated, police_2018_df], axis=0)\n",
    "police_2003_current_con.head()"
   ]
  },
  {
   "cell_type": "code",
   "execution_count": 6,
   "metadata": {},
   "outputs": [],
   "source": [
    "neighborhood_csv_path = Path('Data/sf_neighborhood_average.csv')\n",
    "neighborhood_df = pd.read_csv(neighborhood_csv_path)\n",
    "neighborhood_df['Datetime'] = neighborhood_df['Datetime'].astype(str) + ' 00:00:00'\n",
    "neighborhood_df['Latitude'] = neighborhood_df['Latitude'].astype(float)\n",
    "neighborhood_df['Longitude'] = neighborhood_df['Longitude'].astype(float)\n",
    "neighborhood_df_2003_on = neighborhood_df[neighborhood_df.Datetime >= '2010-01-01 00:00:00']"
   ]
  },
  {
   "cell_type": "code",
   "execution_count": 11,
   "metadata": {},
   "outputs": [],
   "source": [
    "config = {\n",
    "  \"version\": \"v1\",\n",
    "  \"config\": {\n",
    "    \"visState\": {\n",
    "      \"filters\": [\n",
    "        {\n",
    "          \"dataId\": [\n",
    "            \"Average Home Prices By Neighborhood(2010-Current)\"\n",
    "          ],\n",
    "          \"id\": \"rrb19notn\",\n",
    "          \"name\": [\n",
    "            \"Datetime\"\n",
    "          ],\n",
    "          \"type\": \"timeRange\",\n",
    "          \"value\": [\n",
    "            1450911631000,\n",
    "            1453427956000\n",
    "          ],\n",
    "          \"enlarged\": True,\n",
    "          \"plotType\": \"histogram\",\n",
    "          \"yAxis\": None\n",
    "        }\n",
    "      ],\n",
    "      \"layers\": [\n",
    "        {\n",
    "          \"id\": \"7ytm786\",\n",
    "          \"type\": \"cluster\",\n",
    "          \"config\": {\n",
    "            \"dataId\": \"Crime By Neighborhood(2010-Current)\",\n",
    "            \"label\": \"Crime\",\n",
    "            \"color\": [\n",
    "              18,\n",
    "              147,\n",
    "              154\n",
    "            ],\n",
    "            \"columns\": {\n",
    "              \"lat\": \"latitude\",\n",
    "              \"lng\": \"longitude\"\n",
    "            },\n",
    "            \"isVisible\": True,\n",
    "            \"visConfig\": {\n",
    "              \"opacity\": 0.8,\n",
    "              \"clusterRadius\": 40,\n",
    "              \"colorRange\": {\n",
    "                \"name\": \"Global Warming\",\n",
    "                \"type\": \"sequential\",\n",
    "                \"category\": \"Uber\",\n",
    "                \"colors\": [\n",
    "                  \"#5A1846\",\n",
    "                  \"#900C3F\",\n",
    "                  \"#C70039\",\n",
    "                  \"#E3611C\",\n",
    "                  \"#F1920E\",\n",
    "                  \"#FFC300\"\n",
    "                ]\n",
    "              },\n",
    "              \"radiusRange\": [\n",
    "                0,\n",
    "                50\n",
    "              ],\n",
    "              \"colorAggregation\": \"count\"\n",
    "            },\n",
    "            \"hidden\": False,\n",
    "            \"textLabel\": [\n",
    "              {\n",
    "                \"field\": None,\n",
    "                \"color\": [\n",
    "                  255,\n",
    "                  255,\n",
    "                  255\n",
    "                ],\n",
    "                \"size\": 18,\n",
    "                \"offset\": [\n",
    "                  0,\n",
    "                  0\n",
    "                ],\n",
    "                \"anchor\": \"start\",\n",
    "                \"alignment\": \"center\"\n",
    "              }\n",
    "            ]\n",
    "          },\n",
    "          \"visualChannels\": {\n",
    "            \"colorField\": None,\n",
    "            \"colorScale\": \"quantile\"\n",
    "          }\n",
    "        },\n",
    "        {\n",
    "          \"id\": \"fo9ieg\",\n",
    "          \"type\": \"point\",\n",
    "          \"config\": {\n",
    "            \"dataId\": \"Average Home Prices By Neighborhood(2010-Current)\",\n",
    "            \"label\": \"Housing\",\n",
    "            \"color\": [\n",
    "              221,\n",
    "              178,\n",
    "              124\n",
    "            ],\n",
    "            \"columns\": {\n",
    "              \"lat\": \"Latitude\",\n",
    "              \"lng\": \"Longitude\",\n",
    "              \"altitude\": None\n",
    "            },\n",
    "            \"isVisible\": True,\n",
    "            \"visConfig\": {\n",
    "              \"radius\": 10,\n",
    "              \"fixedRadius\": False,\n",
    "              \"opacity\": 0.8,\n",
    "              \"outline\": False,\n",
    "              \"thickness\": 2,\n",
    "              \"strokeColor\": None,\n",
    "              \"colorRange\": {\n",
    "                \"name\": \"Global Warming\",\n",
    "                \"type\": \"sequential\",\n",
    "                \"category\": \"Uber\",\n",
    "                \"colors\": [\n",
    "                  \"#5A1846\",\n",
    "                  \"#900C3F\",\n",
    "                  \"#C70039\",\n",
    "                  \"#E3611C\",\n",
    "                  \"#F1920E\",\n",
    "                  \"#FFC300\"\n",
    "                ]\n",
    "              },\n",
    "              \"strokeColorRange\": {\n",
    "                \"name\": \"Global Warming\",\n",
    "                \"type\": \"sequential\",\n",
    "                \"category\": \"Uber\",\n",
    "                \"colors\": [\n",
    "                  \"#5A1846\",\n",
    "                  \"#900C3F\",\n",
    "                  \"#C70039\",\n",
    "                  \"#E3611C\",\n",
    "                  \"#F1920E\",\n",
    "                  \"#FFC300\"\n",
    "                ]\n",
    "              },\n",
    "              \"radiusRange\": [\n",
    "                0,\n",
    "                50\n",
    "              ],\n",
    "              \"filled\": False\n",
    "            },\n",
    "            \"hidden\": False,\n",
    "            \"textLabel\": [\n",
    "              {\n",
    "                \"field\": {\n",
    "                  \"name\": \"MonthlyPropertyAverage\",\n",
    "                  \"type\": \"string\"\n",
    "                },\n",
    "                \"color\": [\n",
    "                  255,\n",
    "                  255,\n",
    "                  255\n",
    "                ],\n",
    "                \"size\": 18,\n",
    "                \"offset\": [\n",
    "                  0,\n",
    "                  0\n",
    "                ],\n",
    "                \"anchor\": \"start\",\n",
    "                \"alignment\": \"center\"\n",
    "              }\n",
    "            ]\n",
    "          },\n",
    "          \"visualChannels\": {\n",
    "            \"colorField\": None,\n",
    "            \"colorScale\": \"quantile\",\n",
    "            \"strokeColorField\": None,\n",
    "            \"strokeColorScale\": \"quantile\",\n",
    "            \"sizeField\": {\n",
    "              \"name\": \"MonthlyPropertyAverage\",\n",
    "              \"type\": \"string\"\n",
    "            },\n",
    "            \"sizeScale\": \"point\"\n",
    "          }\n",
    "        }\n",
    "      ],\n",
    "      \"interactionConfig\": {\n",
    "        \"tooltip\": {\n",
    "          \"fieldsToShow\": {\n",
    "            \"Crime By Neighborhood(2010-Current)\": [\n",
    "              {\n",
    "                \"name\": \"incident_id\",\n",
    "                \"format\": None\n",
    "              },\n",
    "              {\n",
    "                \"name\": \"incident_category\",\n",
    "                \"format\": None\n",
    "              }\n",
    "            ],\n",
    "            \"Average Home Prices By Neighborhood(2010-Current)\": [\n",
    "              {\n",
    "                \"name\": \"State\",\n",
    "                \"format\": None\n",
    "              },\n",
    "              {\n",
    "                \"name\": \"City\",\n",
    "                \"format\": None\n",
    "              },\n",
    "              {\n",
    "                \"name\": \"RegionName\",\n",
    "                \"format\": None\n",
    "              }\n",
    "            ]\n",
    "          },\n",
    "          \"compareMode\": False,\n",
    "          \"compareType\": \"absolute\",\n",
    "          \"enabled\": True\n",
    "        },\n",
    "        \"brush\": {\n",
    "          \"size\": 0.5,\n",
    "          \"enabled\": False\n",
    "        },\n",
    "        \"geocoder\": {\n",
    "          \"enabled\": False\n",
    "        },\n",
    "        \"coordinate\": {\n",
    "          \"enabled\": False\n",
    "        }\n",
    "      },\n",
    "      \"layerBlending\": \"normal\",\n",
    "      \"splitMaps\": [\n",
    "        {\n",
    "          \"layers\": {\n",
    "            \"7ytm786\": True,\n",
    "            \"fo9ieg\": False\n",
    "          }\n",
    "        },\n",
    "        {\n",
    "          \"layers\": {\n",
    "            \"7ytm786\": False,\n",
    "            \"fo9ieg\": True\n",
    "          }\n",
    "        }\n",
    "      ],\n",
    "      \"animationConfig\": {\n",
    "        \"currentTime\": None,\n",
    "        \"speed\": 1\n",
    "      }\n",
    "    },\n",
    "    \"mapState\": {\n",
    "      \"bearing\": 0,\n",
    "      \"dragRotate\": False,\n",
    "      \"latitude\": 37.7734483411918,\n",
    "      \"longitude\": -122.42382181871619,\n",
    "      \"pitch\": 0,\n",
    "      \"zoom\": 11.92700143246022,\n",
    "      \"isSplit\": True\n",
    "    },\n",
    "    \"mapStyle\": {\n",
    "      \"styleType\": \"dark\",\n",
    "      \"topLayerGroups\": {\n",
    "        \"road\": False,\n",
    "        \"label\": True\n",
    "      },\n",
    "      \"visibleLayerGroups\": {\n",
    "        \"label\": False,\n",
    "        \"road\": True,\n",
    "        \"border\": True,\n",
    "        \"building\": True,\n",
    "        \"water\": True,\n",
    "        \"land\": True,\n",
    "        \"3d building\": True\n",
    "      },\n",
    "      \"threeDBuildingColor\": [\n",
    "        9.665468314072013,\n",
    "        17.18305478057247,\n",
    "        31.1442867897876\n",
    "      ],\n",
    "      \"mapStyles\": {}\n",
    "    }\n",
    "  }\n",
    "}"
   ]
  },
  {
   "cell_type": "code",
   "execution_count": 10,
   "metadata": {},
   "outputs": [
    {
     "name": "stdout",
     "output_type": "stream",
     "text": [
      "User Guide: https://docs.kepler.gl/docs/keplergl-jupyter\n"
     ]
    },
    {
     "data": {
      "application/vnd.jupyter.widget-view+json": {
       "model_id": "b1c43122cfcb4dbe84b1fffc2d5bab22",
       "version_major": 2,
       "version_minor": 0
      },
      "text/plain": [
       "KeplerGl(data={'Crime By Neighborhood(2010-Current)':         incident_id  incident_category            dateti…"
      ]
     },
     "metadata": {},
     "output_type": "display_data"
    }
   ],
   "source": [
    "kepler_map1 = KeplerGl(height=800, data={\"Crime By Neighborhood(2010-Current)\" : police_2003_current_con,\n",
    "                                        \"Average Home Prices By Neighborhood(2010-Current)\":neighborhood_df_2003_on}, config=config)\n",
    "kepler_map1\n"
   ]
  },
  {
   "cell_type": "code",
   "execution_count": 14,
   "metadata": {},
   "outputs": [],
   "source": [
    "#kepler_map1.add_data(data=police_2003_current_con,name='Crime By Neighborhood(2010-Current)')"
   ]
  },
  {
   "cell_type": "code",
   "execution_count": 13,
   "metadata": {},
   "outputs": [],
   "source": [
    "#kepler_map1.add_data(data=neighborhood_df_2003_on, name='Average Home Prices By Neighborhood(2010-Current)')"
   ]
  },
  {
   "cell_type": "code",
   "execution_count": 22,
   "metadata": {},
   "outputs": [
    {
     "name": "stdout",
     "output_type": "stream",
     "text": [
      "Map saved to ./Output/sf_crime.html!\n"
     ]
    }
   ],
   "source": [
    "kepler_map1.save_to_html(file_name='./Output/sf_crime.html',read_only=True)"
   ]
  },
  {
   "cell_type": "code",
   "execution_count": 23,
   "metadata": {},
   "outputs": [
    {
     "data": {
      "text/plain": [
       "True"
      ]
     },
     "execution_count": 23,
     "metadata": {},
     "output_type": "execute_result"
    }
   ],
   "source": [
    "import webbrowser, os\n",
    "webbrowser.open('file:///' + os.path.realpath(\"./Output/sf_crime.html\"))"
   ]
  },
  {
   "cell_type": "code",
   "execution_count": null,
   "metadata": {},
   "outputs": [],
   "source": []
  }
 ],
 "metadata": {
  "kernelspec": {
   "display_name": "Python [conda env:pyvizenv]",
   "language": "python",
   "name": "conda-env-pyvizenv-py"
  },
  "language_info": {
   "codemirror_mode": {
    "name": "ipython",
    "version": 3
   },
   "file_extension": ".py",
   "mimetype": "text/x-python",
   "name": "python",
   "nbconvert_exporter": "python",
   "pygments_lexer": "ipython3",
   "version": "3.8.3"
  }
 },
 "nbformat": 4,
 "nbformat_minor": 4
}
