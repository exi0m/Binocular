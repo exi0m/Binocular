{
 "cells": [
  {
   "cell_type": "code",
   "execution_count": null,
   "metadata": {},
   "outputs": [],
   "source": [
    "# Importing the libraries from the base notebook\n",
    "%run Binocular.ipynb"
   ]
  },
  {
   "cell_type": "code",
   "execution_count": 2,
   "metadata": {},
   "outputs": [],
   "source": [
    "def getMortgageRates(zipCode, propertyValue, loanAmount = -1, lengthofLoan = 30, creditScore = 700):\n",
    "    '''\n",
    "    getMortgageRates calls the Zillow getCurrentRates API and returns the APR using the given parameters. If there was an error that wasn't\n",
    "    caught by an exception in retrieving the mortage rate, -1 will be returned.\n",
    "        The following arguments are required:\n",
    "            zipCode (as a string)\n",
    "            propertyValue\n",
    "        The following arguments are optional and their corresponding default values will be used:\n",
    "            creditScore = 700\n",
    "            loanAmount = 80% of propertyValue\n",
    "\n",
    "            lengthofLoan = 30 (Must be 30, 20, 15, or 10 years)\n",
    "    '''\n",
    "    # Initializing Mortgage Rate\n",
    "    mortgageRate = -1\n",
    "    \n",
    "    # Retrieving Zillow API Key\n",
    "    partnerID = os.getenv(\"ZILLOW_API_KEY\")\n",
    "    \n",
    "    # Checking zipCode\n",
    "    # Enter code here\n",
    "    \n",
    "    # Checking propertyValue\n",
    "    if propertyValue <=0:\n",
    "        raise Exception (\"Your property value must be a positive number\")\n",
    "    \n",
    "    # Checking loanAmount\n",
    "    if loanAmount == -1:\n",
    "        loanAmount = propertyValue * 0.8\n",
    "    elif loanAmount <= 0:\n",
    "        raise Exception(\"Your loan amount must be a positive number\")\n",
    "    elif loanAmount > propertyValue:\n",
    "        raise Exception(\"Your loan amount cannot exceed your property value\")\n",
    "    \n",
    "    # Converting length of loan to loan program\n",
    "    if lengthofLoan == 30:\n",
    "        loanProgram = 'Fixed30Year'\n",
    "    elif lengthofLoan == 20:\n",
    "        loanProgram = 'Fixed20Year'\n",
    "    elif lengthofLoan == 15:\n",
    "        loanProgram = 'Fixed15Year'\n",
    "    elif lengthofLoan == 10:\n",
    "        loanProgram = 'Fixed10Year'\n",
    "    else:\n",
    "        raise Exception(\"The number you entered for the lengthofLoan was invalid. Please enter 30, 20, 15, or 10 for the length of the loan (in years)\")\n",
    "    \n",
    "    # Converting credit score to credit score bucket (as defined by Zillow)\n",
    "    if creditScore < 300:\n",
    "        raise Exception(\"The Credit Score you entered was invalid\")\n",
    "    elif creditScore < 680:\n",
    "        creditScoreBucket = \"Low\"\n",
    "    elif creditScore < 740:\n",
    "        creditScoreBucket = \"High\"\n",
    "    elif creditScore < 850:\n",
    "        creditScoreBucket = \"VeryHigh\"\n",
    "    else:\n",
    "        raise Exception(\"The Credit Score you entered was invalid\")\n",
    "    \n",
    "    \n",
    "    base_url = 'https://mortgageapi.zillow.com/getCurrentRates'\n",
    "    payload = {\n",
    "        'partnerId':partnerID,\n",
    "        'queries.1.propertyBucket.location.zipCode':zipCode,\n",
    "        'queries.1.propertyBucket.propertyValue':str(propertyValue),\n",
    "        'queries.1.propertyBucket.loanAmount':str(loanAmount),\n",
    "        'queries.1.RateQuery.creditScoreBucket':creditScoreBucket,\n",
    "        'queries.1.RateQuery.program':loanProgram\n",
    "    }\n",
    "    mortgage_data = requests.get(base_url, params = payload).json()\n",
    "    \n",
    "    return mortgageRate"
   ]
  },
  {
   "cell_type": "code",
   "execution_count": null,
   "metadata": {},
   "outputs": [],
   "source": [
    "def rental_roi_calc(purchase_price, downpayment = -1, mortgage_apr, rent, expenses, zipcode = -1):\n",
    "    \"\"\"\n",
    "    Function Description\n",
    "    \"\"\"\n",
    "    \n",
    "    # Calculate the expected value of the \n",
    "    \n",
    "    roi = 0\n",
    "    \n",
    "    return roi"
   ]
  },
  {
   "cell_type": "code",
   "execution_count": null,
   "metadata": {},
   "outputs": [],
   "source": [
    "def purchase_roi_calc(purchase_price, downpayment = -1, mortgage_apr, zipcode = -1):\n",
    "    \"\"\"\n",
    "    Function Description\n",
    "    \"\"\"\n",
    "    \n",
    "    roi = 0\n",
    "    \n",
    "    return roi"
   ]
  },
  {
   "cell_type": "code",
   "execution_count": null,
   "metadata": {},
   "outputs": [],
   "source": [
    "def rent_rec(purchase_price, downpayment = -1, zipcode = -1):\n",
    "    \"\"\"\n",
    "    Function Description\n",
    "    \"\"\"\n",
    "    \n",
    "    rent = 0\n",
    "    \n",
    "    return rent"
   ]
  }
 ],
 "metadata": {
  "kernelspec": {
   "display_name": "Python [conda env:pyvizenv] *",
   "language": "python",
   "name": "conda-env-pyvizenv-py"
  },
  "language_info": {
   "codemirror_mode": {
    "name": "ipython",
    "version": 3
   },
   "file_extension": ".py",
   "mimetype": "text/x-python",
   "name": "python",
   "nbconvert_exporter": "python",
   "pygments_lexer": "ipython3",
   "version": "3.7.7"
  }
 },
 "nbformat": 4,
 "nbformat_minor": 4
}
